{
  "nbformat": 4,
  "nbformat_minor": 0,
  "metadata": {
    "colab": {
      "name": "Conv_AutoEncoder",
      "version": "0.3.2",
      "provenance": []
    },
    "kernelspec": {
      "name": "python3",
      "display_name": "Python 3"
    },
    "accelerator": "GPU"
  },
  "cells": [
    {
      "cell_type": "markdown",
      "metadata": {
        "id": "ie-u1ahFhdKf",
        "colab_type": "text"
      },
      "source": [
        "# Goal:--  \n",
        "Build a model that accepts a low resolution image and generates a high resoltuion image."
      ]
    },
    {
      "cell_type": "code",
      "metadata": {
        "id": "ZpKHpssPhc4A",
        "colab_type": "code",
        "outputId": "842492bb-b41c-4de6-cfa4-9b509c1fa150",
        "colab": {
          "base_uri": "https://localhost:8080/",
          "height": 35
        }
      },
      "source": [
        "##Necessary imports \n",
        "import tensorflow as tf\n",
        "import keras\n",
        "import numpy as np\n",
        "from scipy.misc import imresize\n",
        "import matplotlib.pyplot as plt\n",
        "%matplotlib inline"
      ],
      "execution_count": 0,
      "outputs": [
        {
          "output_type": "stream",
          "text": [
            "Using TensorFlow backend.\n"
          ],
          "name": "stderr"
        }
      ]
    },
    {
      "cell_type": "code",
      "metadata": {
        "id": "WctSOXrNhTnV",
        "colab_type": "code",
        "outputId": "a2413fa4-19d4-408a-a9cd-7faccd9c64fc",
        "colab": {
          "base_uri": "https://localhost:8080/",
          "height": 35
        }
      },
      "source": [
        "##Loading the dataset\n",
        "from keras.datasets import mnist\n",
        "(X_train,y_train),(X_test,y_test) = mnist.load_data()\n",
        "print(\"DataSet is loaded\")"
      ],
      "execution_count": 0,
      "outputs": [
        {
          "output_type": "stream",
          "text": [
            "DataSet is loaded\n"
          ],
          "name": "stdout"
        }
      ]
    },
    {
      "cell_type": "markdown",
      "metadata": {
        "id": "vamvO8saiXBA",
        "colab_type": "text"
      },
      "source": [
        "## Model Description  \n",
        "For the given goal we are going to use an **CONVOLUTIONAL AUTOENCODER** a variation of autoencoder.  \n",
        "An autoencoder is combination of two parts : **an encoder and a deocder.**  . The encoder and decoder of a simple autoencoder are mae up of **DENSE** layers, whereas in a conv_autoencoder,they are made up of **CONVOLUTIONAL LAYERS.**  \n",
        "\n",
        "\n",
        "The Encoder part of the AE accpets the image and compreses it to a smaller size with the help of **POOLING** operation.(**MAX-POOLING**)(**also called as DOWNSAMPLEING**).  \n",
        "The Decoder part of the AE accpetes the encoded image and learns to **EXPAND** the image to the desired size by using **CONVOLUTION AND UPSAMPLING** operation.  \n",
        "![alt text](https://cdn-images-1.medium.com/max/2000/1*XPxFuQLXyERecIoEQtYQWQ.png)    \n",
        "\n",
        "\n",
        "### Additional Note:--   \n",
        "BottleNeck layer is really important, it can be used in   \n",
        "1) Dimensionality Reduction (data compression)   \n",
        "2) Anamoly Detection  \n",
        "3) In image Reconstruction.  \n",
        "And many more use cases.\n",
        "\n",
        "\n",
        "Just Extract the bottle neck layer and use it the way you want!!!!   \n",
        "\n",
        "\n",
        "\n"
      ]
    },
    {
      "cell_type": "markdown",
      "metadata": {
        "id": "49KGO4wslUYq",
        "colab_type": "text"
      },
      "source": [
        "## Data Preprocessing  \n",
        "To generate low resolution images ,defining a function call im_reshape() that will resize the input image to the descire dimension.  \n",
        "**Input_Dimension =  (14,14)**  \n",
        "**Output_Dimension = (28,28)**  "
      ]
    },
    {
      "cell_type": "code",
      "metadata": {
        "id": "_rKnvXWhiUdc",
        "colab_type": "code",
        "outputId": "e58ce85b-2247-4ffb-a5fa-9224fbcdca40",
        "colab": {
          "base_uri": "https://localhost:8080/",
          "height": 90
        }
      },
      "source": [
        "def im_reshape(x):\n",
        "  \"\"\" Reshaping the images to 14*14 shape\"\"\"\n",
        "  img = imresize(x.reshape(28,28),(14,14))\n",
        "  return img\n",
        "\n",
        "##creatig the low resolution images\n",
        "xx_train = np.array([*map(im_reshape,X_train.astype(float))])\n",
        "xx_test = np.array([*map(im_reshape,X_test.astype(float))])"
      ],
      "execution_count": 0,
      "outputs": [
        {
          "output_type": "stream",
          "text": [
            "/usr/local/lib/python3.6/dist-packages/ipykernel_launcher.py:3: DeprecationWarning: `imresize` is deprecated!\n",
            "`imresize` is deprecated in SciPy 1.0.0, and will be removed in 1.2.0.\n",
            "Use ``skimage.transform.resize`` instead.\n",
            "  This is separate from the ipykernel package so we can avoid doing imports until\n"
          ],
          "name": "stderr"
        }
      ]
    },
    {
      "cell_type": "markdown",
      "metadata": {
        "id": "EXT-8CjNnSN8",
        "colab_type": "text"
      },
      "source": [
        "## Scaling   \n",
        "This is done to make the training process faster."
      ]
    },
    {
      "cell_type": "code",
      "metadata": {
        "id": "eVMx4eD5nfZL",
        "colab_type": "code",
        "colab": {}
      },
      "source": [
        "##scaling between 0 and 1\n",
        "\n",
        "##Input(14*14)\n",
        "xx_train = xx_train/255.0\n",
        "xx_test  = xx_test/255.0\n",
        "\n",
        "##output(28*28)\n",
        "X_train = X_train/255.0\n",
        "X_test = X_test/255.0"
      ],
      "execution_count": 0,
      "outputs": []
    },
    {
      "cell_type": "markdown",
      "metadata": {
        "id": "0o6UglkVn-Jw",
        "colab_type": "text"
      },
      "source": [
        "## Model Definition  \n",
        "***Encoder***  \n",
        "\n",
        "\n",
        "*   The first layer is a **2D conv** layer with **64 filters** and having  **3*3 kernel size**  followed by ** batch normalization** and **relu activation**,next ** downsampling with 2*2 filters and stride of 2**.\n",
        "*   In the second layer we just change the number of filters to 128 rest keeping same.\n",
        "\n",
        "***Decoder***  \n",
        "\n",
        "\n",
        "*   The first layer is a 2D conv layer with 128 filters of size 3*3 with relu activation, followed by upsampling.\n",
        "*   **Last layer is 2D conv layer with 1 filter of size 3*3 with activation as sigmoid.**   \n",
        "\n",
        "\n",
        "**NOTE** :--   \n",
        "                      Decoder is bascially mirror image of the Encoder with slight differences.\n",
        "\n",
        "\n",
        "\n"
      ]
    },
    {
      "cell_type": "code",
      "metadata": {
        "id": "8_jJzVZ9ny0H",
        "colab_type": "code",
        "colab": {}
      },
      "source": [
        "##Hyperparameters\n",
        "batch_size = 128\n",
        "epochs = 50\n",
        "input_shape = (14,14,1)  # width,height,depth"
      ],
      "execution_count": 0,
      "outputs": []
    },
    {
      "cell_type": "code",
      "metadata": {
        "id": "Do2bHLzhqQuM",
        "colab_type": "code",
        "colab": {}
      },
      "source": [
        "##necessary imports\n",
        "from keras.layers import Conv2D,MaxPooling2D,UpSampling2D\n",
        "from keras.models import Model,Sequential\n",
        "from keras.optimizers import Adam\n",
        "from keras import backend as k"
      ],
      "execution_count": 0,
      "outputs": []
    },
    {
      "cell_type": "code",
      "metadata": {
        "id": "PNEIHsIEqARC",
        "colab_type": "code",
        "colab": {}
      },
      "source": [
        "##defining the model\n",
        "def conv_autoencoder(input_shape):\n",
        "  \"\"\"\n",
        "  This function includes the model architecture.\n",
        "  1) Encoder\n",
        "  2) Decoder\n",
        "  \"\"\"\n",
        "  \n",
        "  ##defining the Encoder\n",
        "  \n",
        "  ##layer-1\n",
        "  input_data = keras.layers.Input(shape = input_shape,dtype = 'float32')\n",
        "  ##adding 2D conv layer\n",
        "  conv1 = Conv2D(64,(3,3),activation = 'relu',padding = 'same')(input_data)\n",
        "  ##max pooling operation\n",
        "  conv_pooled1 = MaxPooling2D(pool_size = (2,2))(conv1)\n",
        "  ##batch normalization\n",
        "  conv_batch1 = keras.layers.BatchNormalization()(conv_pooled1)\n",
        "  \n",
        "  \n",
        "  ##layer-2\n",
        "  conv2 = Conv2D(128,(3,3),activation = 'relu',padding = 'same')(conv_batch1)\n",
        "  conv_batch2 = keras.layers.BatchNormalization()(conv2)\n",
        "  \n",
        "  \n",
        "  ##defining the Decoder part\n",
        "  ##decoder layer-1\n",
        "  conv_dec1 = Conv2D(128,(3,3),activation = 'relu',padding = 'same')(conv_batch2)\n",
        "  conv_dec1 = UpSampling2D((2,2))(conv_dec1)\n",
        "  conv_dec_batch1 = keras.layers.BatchNormalization()(conv_dec1)\n",
        "  \n",
        "  ##decoder layer -02\n",
        "  conv_dec2 = Conv2D(64,(3,3),activation = 'relu',padding = 'same')(conv_dec_batch1)\n",
        "  conv_dec2 = UpSampling2D((2,2))(conv_dec2)\n",
        "  conv_dec_batch2 = keras.layers.BatchNormalization()(conv_dec2)\n",
        "  \n",
        "  ##Adding the final layer\n",
        "  dec_output = Conv2D(1,(3,3),activation = 'sigmoid',padding = 'same')(conv_dec_batch2)\n",
        "  \n",
        "  return input_data,dec_output\n",
        "\n",
        "\n"
      ],
      "execution_count": 0,
      "outputs": []
    },
    {
      "cell_type": "code",
      "metadata": {
        "id": "j0efG4E5-t_J",
        "colab_type": "code",
        "outputId": "b42c5dd1-757c-4a64-f210-6f1cc2caf287",
        "colab": {
          "base_uri": "https://localhost:8080/",
          "height": 680
        }
      },
      "source": [
        "##calling the Model from keras\n",
        "\n",
        "input_data,dec_output = conv_autoencoder(input_shape)\n",
        "model = Model(inputs = [input_data],output = [dec_output])\n",
        "\n",
        "##compiling the model\n",
        "model.compile(loss = 'mean_squared_error',\n",
        "             optimizer = Adam(lr = 0.002))\n",
        "\n",
        "##getting the summary of the model\n",
        "model.summary()"
      ],
      "execution_count": 0,
      "outputs": [
        {
          "output_type": "stream",
          "text": [
            "_________________________________________________________________\n",
            "Layer (type)                 Output Shape              Param #   \n",
            "=================================================================\n",
            "input_1 (InputLayer)         (None, 14, 14, 1)         0         \n",
            "_________________________________________________________________\n",
            "conv2d_1 (Conv2D)            (None, 14, 14, 64)        640       \n",
            "_________________________________________________________________\n",
            "max_pooling2d_1 (MaxPooling2 (None, 7, 7, 64)          0         \n",
            "_________________________________________________________________\n",
            "batch_normalization_1 (Batch (None, 7, 7, 64)          256       \n",
            "_________________________________________________________________\n",
            "conv2d_2 (Conv2D)            (None, 7, 7, 128)         73856     \n",
            "_________________________________________________________________\n",
            "batch_normalization_2 (Batch (None, 7, 7, 128)         512       \n",
            "_________________________________________________________________\n",
            "conv2d_3 (Conv2D)            (None, 7, 7, 128)         147584    \n",
            "_________________________________________________________________\n",
            "up_sampling2d_1 (UpSampling2 (None, 14, 14, 128)       0         \n",
            "_________________________________________________________________\n",
            "batch_normalization_3 (Batch (None, 14, 14, 128)       512       \n",
            "_________________________________________________________________\n",
            "conv2d_4 (Conv2D)            (None, 14, 14, 64)        73792     \n",
            "_________________________________________________________________\n",
            "up_sampling2d_2 (UpSampling2 (None, 28, 28, 64)        0         \n",
            "_________________________________________________________________\n",
            "batch_normalization_4 (Batch (None, 28, 28, 64)        256       \n",
            "_________________________________________________________________\n",
            "conv2d_5 (Conv2D)            (None, 28, 28, 1)         577       \n",
            "=================================================================\n",
            "Total params: 297,985\n",
            "Trainable params: 297,217\n",
            "Non-trainable params: 768\n",
            "_________________________________________________________________\n"
          ],
          "name": "stdout"
        },
        {
          "output_type": "stream",
          "text": [
            "/usr/local/lib/python3.6/dist-packages/ipykernel_launcher.py:3: UserWarning: Update your `Model` call to the Keras 2 API: `Model(inputs=[<tf.Tenso..., outputs=[<tf.Tenso...)`\n",
            "  This is separate from the ipykernel package so we can avoid doing imports until\n"
          ],
          "name": "stderr"
        }
      ]
    },
    {
      "cell_type": "markdown",
      "metadata": {
        "id": "3zGXkZ_9_3ai",
        "colab_type": "text"
      },
      "source": [
        "## Fitting The Conv-AutoEncoder"
      ]
    },
    {
      "cell_type": "code",
      "metadata": {
        "id": "qeYwFtm8_0UZ",
        "colab_type": "code",
        "outputId": "15e37f88-fc9a-4d3c-8da2-1ab3002628b8",
        "colab": {
          "base_uri": "https://localhost:8080/",
          "height": 1872
        }
      },
      "source": [
        "history = model.fit(xx_train.reshape(-1,14,14,1),\n",
        "                   X_train.reshape(-1,28,28,1),\n",
        "                   batch_size = batch_size,\n",
        "                   epochs = epochs,\n",
        "                   verbose = 1,\n",
        "                   validation_split = 0.2)"
      ],
      "execution_count": 0,
      "outputs": [
        {
          "output_type": "stream",
          "text": [
            "Train on 48000 samples, validate on 12000 samples\n",
            "Epoch 1/50\n",
            "48000/48000 [==============================] - 15s 322us/step - loss: 0.0128 - val_loss: 0.0042\n",
            "Epoch 2/50\n",
            "48000/48000 [==============================] - 14s 290us/step - loss: 0.0029 - val_loss: 0.0025\n",
            "Epoch 3/50\n",
            "48000/48000 [==============================] - 14s 289us/step - loss: 0.0023 - val_loss: 0.0023\n",
            "Epoch 4/50\n",
            "48000/48000 [==============================] - 14s 289us/step - loss: 0.0020 - val_loss: 0.0018\n",
            "Epoch 5/50\n",
            "48000/48000 [==============================] - 14s 290us/step - loss: 0.0019 - val_loss: 0.0019\n",
            "Epoch 6/50\n",
            "48000/48000 [==============================] - 14s 289us/step - loss: 0.0017 - val_loss: 0.0017\n",
            "Epoch 7/50\n",
            "48000/48000 [==============================] - 14s 289us/step - loss: 0.0016 - val_loss: 0.0017\n",
            "Epoch 8/50\n",
            "48000/48000 [==============================] - 14s 289us/step - loss: 0.0016 - val_loss: 0.0024\n",
            "Epoch 9/50\n",
            "48000/48000 [==============================] - 14s 288us/step - loss: 0.0024 - val_loss: 0.0027\n",
            "Epoch 10/50\n",
            "48000/48000 [==============================] - 14s 288us/step - loss: 0.0017 - val_loss: 0.0020\n",
            "Epoch 11/50\n",
            "48000/48000 [==============================] - 14s 289us/step - loss: 0.0016 - val_loss: 0.0015\n",
            "Epoch 12/50\n",
            "48000/48000 [==============================] - 14s 289us/step - loss: 0.0015 - val_loss: 0.0014\n",
            "Epoch 13/50\n",
            "48000/48000 [==============================] - 14s 289us/step - loss: 0.0014 - val_loss: 0.0014\n",
            "Epoch 14/50\n",
            "48000/48000 [==============================] - 14s 289us/step - loss: 0.0014 - val_loss: 0.0014\n",
            "Epoch 15/50\n",
            "48000/48000 [==============================] - 14s 288us/step - loss: 0.0014 - val_loss: 0.0016\n",
            "Epoch 16/50\n",
            "48000/48000 [==============================] - 14s 288us/step - loss: 0.0014 - val_loss: 0.0014\n",
            "Epoch 17/50\n",
            "48000/48000 [==============================] - 14s 287us/step - loss: 0.0013 - val_loss: 0.0015\n",
            "Epoch 18/50\n",
            "48000/48000 [==============================] - 14s 289us/step - loss: 0.0012 - val_loss: 0.0013\n",
            "Epoch 19/50\n",
            "48000/48000 [==============================] - 14s 290us/step - loss: 0.0013 - val_loss: 0.0014\n",
            "Epoch 20/50\n",
            "48000/48000 [==============================] - 14s 289us/step - loss: 0.0012 - val_loss: 0.0015\n",
            "Epoch 21/50\n",
            "48000/48000 [==============================] - 14s 289us/step - loss: 0.0014 - val_loss: 0.0014\n",
            "Epoch 22/50\n",
            "48000/48000 [==============================] - 14s 289us/step - loss: 0.0012 - val_loss: 0.0014\n",
            "Epoch 23/50\n",
            "48000/48000 [==============================] - 14s 289us/step - loss: 0.0012 - val_loss: 0.0013\n",
            "Epoch 24/50\n",
            "48000/48000 [==============================] - 14s 289us/step - loss: 0.0012 - val_loss: 0.0017\n",
            "Epoch 25/50\n",
            "48000/48000 [==============================] - 14s 290us/step - loss: 0.0012 - val_loss: 0.0012\n",
            "Epoch 26/50\n",
            "48000/48000 [==============================] - 14s 289us/step - loss: 0.0011 - val_loss: 0.0012\n",
            "Epoch 27/50\n",
            "48000/48000 [==============================] - 14s 289us/step - loss: 0.0011 - val_loss: 0.0012\n",
            "Epoch 28/50\n",
            "48000/48000 [==============================] - 14s 288us/step - loss: 0.0011 - val_loss: 0.0014\n",
            "Epoch 29/50\n",
            "48000/48000 [==============================] - 14s 289us/step - loss: 0.0011 - val_loss: 0.0012\n",
            "Epoch 30/50\n",
            "48000/48000 [==============================] - 14s 289us/step - loss: 0.0011 - val_loss: 0.0012\n",
            "Epoch 31/50\n",
            "48000/48000 [==============================] - 14s 290us/step - loss: 0.0011 - val_loss: 0.0013\n",
            "Epoch 32/50\n",
            "48000/48000 [==============================] - 14s 289us/step - loss: 0.0011 - val_loss: 0.0011\n",
            "Epoch 33/50\n",
            "48000/48000 [==============================] - 14s 289us/step - loss: 0.0011 - val_loss: 0.0012\n",
            "Epoch 34/50\n",
            "48000/48000 [==============================] - 14s 289us/step - loss: 0.0010 - val_loss: 0.0011\n",
            "Epoch 35/50\n",
            "48000/48000 [==============================] - 14s 289us/step - loss: 0.0010 - val_loss: 0.0012\n",
            "Epoch 36/50\n",
            "48000/48000 [==============================] - 14s 289us/step - loss: 0.0010 - val_loss: 0.0011\n",
            "Epoch 37/50\n",
            "48000/48000 [==============================] - 14s 288us/step - loss: 0.0010 - val_loss: 0.0013\n",
            "Epoch 38/50\n",
            "48000/48000 [==============================] - 14s 290us/step - loss: 9.9748e-04 - val_loss: 0.0011\n",
            "Epoch 39/50\n",
            "48000/48000 [==============================] - 14s 286us/step - loss: 0.0010 - val_loss: 0.0011\n",
            "Epoch 40/50\n",
            "48000/48000 [==============================] - 14s 289us/step - loss: 9.8423e-04 - val_loss: 0.0011\n",
            "Epoch 41/50\n",
            "48000/48000 [==============================] - 14s 289us/step - loss: 9.8160e-04 - val_loss: 0.0011\n",
            "Epoch 42/50\n",
            "48000/48000 [==============================] - 14s 288us/step - loss: 9.6730e-04 - val_loss: 0.0012\n",
            "Epoch 43/50\n",
            "48000/48000 [==============================] - 14s 290us/step - loss: 9.7202e-04 - val_loss: 0.0011\n",
            "Epoch 44/50\n",
            "48000/48000 [==============================] - 14s 288us/step - loss: 9.6080e-04 - val_loss: 0.0011\n",
            "Epoch 45/50\n",
            "48000/48000 [==============================] - 14s 288us/step - loss: 9.5695e-04 - val_loss: 0.0011\n",
            "Epoch 46/50\n",
            "48000/48000 [==============================] - 14s 290us/step - loss: 9.6456e-04 - val_loss: 0.0011\n",
            "Epoch 47/50\n",
            "48000/48000 [==============================] - 14s 289us/step - loss: 9.3872e-04 - val_loss: 0.0011\n",
            "Epoch 48/50\n",
            "48000/48000 [==============================] - 14s 289us/step - loss: 9.4364e-04 - val_loss: 0.0010\n",
            "Epoch 49/50\n",
            "48000/48000 [==============================] - 14s 288us/step - loss: 9.5563e-04 - val_loss: 0.0011\n",
            "Epoch 50/50\n",
            "48000/48000 [==============================] - 14s 288us/step - loss: 9.4709e-04 - val_loss: 0.0010\n"
          ],
          "name": "stdout"
        }
      ]
    },
    {
      "cell_type": "markdown",
      "metadata": {
        "id": "L6W6HrLLArw8",
        "colab_type": "text"
      },
      "source": [
        "## Loss Plot and Test Results"
      ]
    },
    {
      "cell_type": "code",
      "metadata": {
        "id": "9qg8cCwzAn1B",
        "colab_type": "code",
        "outputId": "c8f31655-0e79-43f6-90d3-778dbba18242",
        "colab": {
          "base_uri": "https://localhost:8080/",
          "height": 403
        }
      },
      "source": [
        "##getting loss\n",
        "loss = history.history['loss']\n",
        "##getting the validation loss\n",
        "val_loss = history.history['val_loss']\n",
        "##getting the epochs for plotting on the x-axis\n",
        "x_points = list(range(epochs))\n",
        "plt.figure(figsize = (16,6))\n",
        "\n",
        "##plotting\n",
        "plt.plot(x_points,loss,marker = 'D',label = 'Training Loss')\n",
        "plt.plot(x_points,val_loss,marker = 'o',label = 'Validation_Loss')\n",
        "plt.xlabel(\"EPOCHS\")\n",
        "plt.title(\"Comparing the Loss\")\n",
        "plt.legend()\n",
        "plt.show()"
      ],
      "execution_count": 0,
      "outputs": [
        {
          "output_type": "display_data",
          "data": {
            "image/png": "[encoded data removed]",
            "text/plain": [
              "<Figure size 1152x432 with 1 Axes>"
            ]
          },
          "metadata": {
            "tags": []
          }
        }
      ]
    },
    {
      "cell_type": "markdown",
      "metadata": {
        "id": "C7Y1enDdDCCg",
        "colab_type": "text"
      },
      "source": [
        "# Model Inference"
      ]
    },
    {
      "cell_type": "code",
      "metadata": {
        "id": "u-Lcx0cVCadB",
        "colab_type": "code",
        "outputId": "0d1ba072-040d-4df6-8a85-96e52912d6fe",
        "colab": {
          "base_uri": "https://localhost:8080/",
          "height": 610
        }
      },
      "source": [
        "print(\"Input Images\")\n",
        "\n",
        "plt.figure(figsize = (10,10))\n",
        "for i in range(9):\n",
        "  plt.subplot(331+i)\n",
        "  plt.imshow(np.squeeze(xx_test.reshape(-1,14,14,1)[i]),cmap = 'gray')\n",
        "plt.show()\n",
        "\n",
        "\n"
      ],
      "execution_count": 0,
      "outputs": [
        {
          "output_type": "stream",
          "text": [
            "Input Images\n"
          ],
          "name": "stdout"
        },
        {
          "output_type": "display_data",
          "data": {
            "image/png": "[encoded data removed]",
            "text/plain": [
              "<Figure size 720x720 with 9 Axes>"
            ]
          },
          "metadata": {
            "tags": []
          }
        }
      ]
    },
    {
      "cell_type": "code",
      "metadata": {
        "id": "ZgRo4EL2Cuom",
        "colab_type": "code",
        "outputId": "3c952f09-98ba-4b18-fc41-47bb0708da02",
        "colab": {
          "base_uri": "https://localhost:8080/",
          "height": 611
        }
      },
      "source": [
        "print(\"Generated Images\")\n",
        "plt.figure(figsize = (10,10))\n",
        "for i in range(9):\n",
        "  plt.subplot(331+i)\n",
        "  pred = model.predict(xx_test.reshape(-1,14,14,1)[i:i+1],verbose = 0)\n",
        "  plt.imshow(pred[0].reshape(28,28),cmap = 'gray')\n",
        "plt.show()"
      ],
      "execution_count": 0,
      "outputs": [
        {
          "output_type": "stream",
          "text": [
            "Generated Images\n"
          ],
          "name": "stdout"
        },
        {
          "output_type": "display_data",
          "data": {
            "image/png": "[encoded data removed]",
            "text/plain": [
              "<Figure size 720x720 with 9 Axes>"
            ]
          },
          "metadata": {
            "tags": []
          }
        }
      ]
    },
    {
      "cell_type": "markdown",
      "metadata": {
        "id": "W7Qo8dd9E_Pk",
        "colab_type": "text"
      },
      "source": [
        "**Thanks **  \n",
        " "
      ]
    }
  ]
}